{
  "nbformat": 4,
  "nbformat_minor": 0,
  "metadata": {
    "colab": {
      "provenance": []
    },
    "kernelspec": {
      "name": "python3",
      "display_name": "Python 3"
    },
    "language_info": {
      "name": "python"
    }
  },
  "cells": [
    {
      "cell_type": "markdown",
      "source": [
        "Antes de empezar descarga las databases reducidas y subelas directamente en los archivos del colab"
      ],
      "metadata": {
        "id": "Bv0BkIAQJVru"
      }
    },
    {
      "cell_type": "code",
      "source": [
        "!pip install fastapi uvicorn pyngrok nest_asyncio"
      ],
      "metadata": {
        "colab": {
          "base_uri": "https://localhost:8080/"
        },
        "id": "gUKc_B7BL5VD",
        "outputId": "a2c1f5d3-c5da-4ea0-a0c7-ead7efd78679"
      },
      "execution_count": 3,
      "outputs": [
        {
          "output_type": "stream",
          "name": "stdout",
          "text": [
            "Collecting fastapi\n",
            "  Downloading fastapi-0.115.5-py3-none-any.whl.metadata (27 kB)\n",
            "Collecting uvicorn\n",
            "  Downloading uvicorn-0.32.0-py3-none-any.whl.metadata (6.6 kB)\n",
            "Collecting pyngrok\n",
            "  Downloading pyngrok-7.2.1-py3-none-any.whl.metadata (8.3 kB)\n",
            "Requirement already satisfied: nest_asyncio in /usr/local/lib/python3.10/dist-packages (1.6.0)\n",
            "Collecting starlette<0.42.0,>=0.40.0 (from fastapi)\n",
            "  Downloading starlette-0.41.2-py3-none-any.whl.metadata (6.0 kB)\n",
            "Requirement already satisfied: pydantic!=1.8,!=1.8.1,!=2.0.0,!=2.0.1,!=2.1.0,<3.0.0,>=1.7.4 in /usr/local/lib/python3.10/dist-packages (from fastapi) (2.9.2)\n",
            "Requirement already satisfied: typing-extensions>=4.8.0 in /usr/local/lib/python3.10/dist-packages (from fastapi) (4.12.2)\n",
            "Requirement already satisfied: click>=7.0 in /usr/local/lib/python3.10/dist-packages (from uvicorn) (8.1.7)\n",
            "Requirement already satisfied: h11>=0.8 in /usr/local/lib/python3.10/dist-packages (from uvicorn) (0.14.0)\n",
            "Requirement already satisfied: PyYAML>=5.1 in /usr/local/lib/python3.10/dist-packages (from pyngrok) (6.0.2)\n",
            "Requirement already satisfied: annotated-types>=0.6.0 in /usr/local/lib/python3.10/dist-packages (from pydantic!=1.8,!=1.8.1,!=2.0.0,!=2.0.1,!=2.1.0,<3.0.0,>=1.7.4->fastapi) (0.7.0)\n",
            "Requirement already satisfied: pydantic-core==2.23.4 in /usr/local/lib/python3.10/dist-packages (from pydantic!=1.8,!=1.8.1,!=2.0.0,!=2.0.1,!=2.1.0,<3.0.0,>=1.7.4->fastapi) (2.23.4)\n",
            "Requirement already satisfied: anyio<5,>=3.4.0 in /usr/local/lib/python3.10/dist-packages (from starlette<0.42.0,>=0.40.0->fastapi) (3.7.1)\n",
            "Requirement already satisfied: idna>=2.8 in /usr/local/lib/python3.10/dist-packages (from anyio<5,>=3.4.0->starlette<0.42.0,>=0.40.0->fastapi) (3.10)\n",
            "Requirement already satisfied: sniffio>=1.1 in /usr/local/lib/python3.10/dist-packages (from anyio<5,>=3.4.0->starlette<0.42.0,>=0.40.0->fastapi) (1.3.1)\n",
            "Requirement already satisfied: exceptiongroup in /usr/local/lib/python3.10/dist-packages (from anyio<5,>=3.4.0->starlette<0.42.0,>=0.40.0->fastapi) (1.2.2)\n",
            "Downloading fastapi-0.115.5-py3-none-any.whl (94 kB)\n",
            "\u001b[2K   \u001b[90m━━━━━━━━━━━━━━━━━━━━━━━━━━━━━━━━━━━━━━━━\u001b[0m \u001b[32m94.9/94.9 kB\u001b[0m \u001b[31m3.8 MB/s\u001b[0m eta \u001b[36m0:00:00\u001b[0m\n",
            "\u001b[?25hDownloading uvicorn-0.32.0-py3-none-any.whl (63 kB)\n",
            "\u001b[2K   \u001b[90m━━━━━━━━━━━━━━━━━━━━━━━━━━━━━━━━━━━━━━━━\u001b[0m \u001b[32m63.7/63.7 kB\u001b[0m \u001b[31m4.2 MB/s\u001b[0m eta \u001b[36m0:00:00\u001b[0m\n",
            "\u001b[?25hDownloading pyngrok-7.2.1-py3-none-any.whl (22 kB)\n",
            "Downloading starlette-0.41.2-py3-none-any.whl (73 kB)\n",
            "\u001b[2K   \u001b[90m━━━━━━━━━━━━━━━━━━━━━━━━━━━━━━━━━━━━━━━━\u001b[0m \u001b[32m73.3/73.3 kB\u001b[0m \u001b[31m5.8 MB/s\u001b[0m eta \u001b[36m0:00:00\u001b[0m\n",
            "\u001b[?25hInstalling collected packages: uvicorn, pyngrok, starlette, fastapi\n",
            "Successfully installed fastapi-0.115.5 pyngrok-7.2.1 starlette-0.41.2 uvicorn-0.32.0\n"
          ]
        }
      ]
    },
    {
      "cell_type": "code",
      "source": [
        "# Importar librerías necesarias\n",
        "import pandas as pd\n",
        "import numpy as np\n",
        "import matplotlib.pyplot as plt\n",
        "import seaborn as sns\n",
        "import ast\n",
        "import uvicorn\n",
        "from sklearn.feature_extraction.text import TfidfVectorizer\n",
        "from sklearn.metrics.pairwise import cosine_similarity\n",
        "from fastapi import FastAPI, HTTPException\n",
        "import nest_asyncio\n",
        "from pyngrok import ngrok\n",
        "from typing import List\n",
        "\n",
        "# Cargar los datos en dataframes desde las rutas funcionales\n",
        "movies_data = pd.read_csv('/content/movies_dataset_reducido.csv', low_memory=False)\n",
        "credits_data = pd.read_csv('/content/credits_reducido.csv', low_memory=False)\n",
        "# Muestra la forma de los datasets para verificar la carga\n",
        "print(\"Movies Data Shape:\", movies_data.shape)\n",
        "print(\"Credits Data Shape:\", credits_data.shape)\n",
        "\n",
        "# Muestra las primeras filas de ambos datasets\n",
        "print(\"\\nMovies Data Head:\")\n",
        "print(movies_data.head())\n",
        "print(\"\\nCredits Data Head:\")\n",
        "print(credits_data.head())\n",
        "\n",
        "# Información detallada de los datasets\n",
        "print(\"\\nMovies Data Info:\")\n",
        "movies_data.info()\n",
        "print(\"\\nCredits Data Info:\")\n",
        "credits_data.info()\n",
        "\n",
        "# Filtrar y limpiar filas sin fecha de lanzamiento en movies_data\n",
        "movies_data_cleaned = movies_data.dropna(subset=['release_date'])\n",
        "\n",
        "# Transformación de valores nulos en revenue y budget a 0\n",
        "movies_data_cleaned['return'] = np.where(\n",
        "    (movies_data_cleaned['budget'] > 0),\n",
        "    movies_data_cleaned['revenue'] / movies_data_cleaned['budget'],\n",
        "    0)\n",
        "\n",
        "\n",
        "# Convertir la fecha de lanzamiento al formato AAAA-mm-dd y extraer el año de lanzamiento\n",
        "movies_data_cleaned['release_date'] = pd.to_datetime(movies_data_cleaned['release_date'], errors='coerce')\n",
        "movies_data_cleaned['release_year'] = movies_data_cleaned['release_date'].dt.year\n",
        "\n",
        "# Crear columna 'return' (retorno de inversión) usando revenue / budget y asignar 0 donde no es calculable\n",
        "movies_data_cleaned['budget'] = pd.to_numeric(movies_data_cleaned['budget'], errors='coerce')\n",
        "movies_data_cleaned['revenue'] = pd.to_numeric(movies_data_cleaned['revenue'], errors='coerce')\n",
        "movies_data_cleaned['return'] = np.where(movies_data_cleaned['budget'] > 0, movies_data_cleaned['revenue'] / movies_data_cleaned['budget'], 0)\n",
        "\n",
        "# Eliminar columnas innecesarias en movies_data\n",
        "columns_to_drop = ['video', 'imdb_id', 'adult', 'original_title', 'poster_path', 'homepage']\n",
        "movies_data_cleaned = movies_data_cleaned.drop(columns=columns_to_drop)\n",
        "\n",
        "# Desanidar columnas anidadas en movies_data\n",
        "def desanidar_columna(columna):\n",
        "    try:\n",
        "        return ast.literal_eval(columna) if isinstance(columna, str) else []\n",
        "    except ValueError:\n",
        "        return []\n",
        "\n",
        "movies_data_cleaned['belongs_to_collection'] = movies_data_cleaned['belongs_to_collection'].apply(desanidar_columna)\n",
        "movies_data_cleaned['production_companies'] = movies_data_cleaned['production_companies'].apply(desanidar_columna)\n",
        "movies_data_cleaned['production_countries'] = movies_data_cleaned['production_countries'].apply(desanidar_columna)\n",
        "\n",
        "# Comprobación del dataset transformado\n",
        "print(\"\\nMovies Data Cleaned Info:\")\n",
        "print(movies_data_cleaned.info())\n",
        "print(\"\\nMovies Data Cleaned Head:\")\n",
        "print(movies_data_cleaned.head())\n"
      ],
      "metadata": {
        "colab": {
          "base_uri": "https://localhost:8080/"
        },
        "collapsed": true,
        "id": "46i9ECm72bWK",
        "outputId": "02267014-37ec-4e89-e08c-2db438471cf9"
      },
      "execution_count": 5,
      "outputs": [
        {
          "output_type": "stream",
          "name": "stdout",
          "text": [
            "Movies Data Shape: (450, 24)\n",
            "Credits Data Shape: (450, 3)\n",
            "\n",
            "Movies Data Head:\n",
            "   adult                              belongs_to_collection    budget  \\\n",
            "0  False  {'id': 10194, 'name': 'Toy Story Collection', ...  30000000   \n",
            "1  False                                                NaN  65000000   \n",
            "2  False  {'id': 119050, 'name': 'Grumpy Old Men Collect...         0   \n",
            "3  False                                                NaN  16000000   \n",
            "4  False  {'id': 96871, 'name': 'Father of the Bride Col...         0   \n",
            "\n",
            "                                              genres  \\\n",
            "0  [{'id': 16, 'name': 'Animation'}, {'id': 35, '...   \n",
            "1  [{'id': 12, 'name': 'Adventure'}, {'id': 14, '...   \n",
            "2  [{'id': 10749, 'name': 'Romance'}, {'id': 35, ...   \n",
            "3  [{'id': 35, 'name': 'Comedy'}, {'id': 18, 'nam...   \n",
            "4                     [{'id': 35, 'name': 'Comedy'}]   \n",
            "\n",
            "                               homepage     id    imdb_id original_language  \\\n",
            "0  http://toystory.disney.com/toy-story    862  tt0114709                en   \n",
            "1                                   NaN   8844  tt0113497                en   \n",
            "2                                   NaN  15602  tt0113228                en   \n",
            "3                                   NaN  31357  tt0114885                en   \n",
            "4                                   NaN  11862  tt0113041                en   \n",
            "\n",
            "                original_title  \\\n",
            "0                    Toy Story   \n",
            "1                      Jumanji   \n",
            "2             Grumpier Old Men   \n",
            "3            Waiting to Exhale   \n",
            "4  Father of the Bride Part II   \n",
            "\n",
            "                                            overview  ...  release_date  \\\n",
            "0  Led by Woody, Andy's toys live happily in his ...  ...    1995-10-30   \n",
            "1  When siblings Judy and Peter discover an encha...  ...    1995-12-15   \n",
            "2  A family wedding reignites the ancient feud be...  ...    1995-12-22   \n",
            "3  Cheated on, mistreated and stepped on, the wom...  ...    1995-12-22   \n",
            "4  Just when George Banks has recovered from his ...  ...    1995-02-10   \n",
            "\n",
            "       revenue runtime                                   spoken_languages  \\\n",
            "0  373554033.0    81.0           [{'iso_639_1': 'en', 'name': 'English'}]   \n",
            "1  262797249.0   104.0  [{'iso_639_1': 'en', 'name': 'English'}, {'iso...   \n",
            "2          0.0   101.0           [{'iso_639_1': 'en', 'name': 'English'}]   \n",
            "3   81452156.0   127.0           [{'iso_639_1': 'en', 'name': 'English'}]   \n",
            "4   76578911.0   106.0           [{'iso_639_1': 'en', 'name': 'English'}]   \n",
            "\n",
            "     status                                            tagline  \\\n",
            "0  Released                                                NaN   \n",
            "1  Released          Roll the dice and unleash the excitement!   \n",
            "2  Released  Still Yelling. Still Fighting. Still Ready for...   \n",
            "3  Released  Friends are the people who let you be yourself...   \n",
            "4  Released  Just When His World Is Back To Normal... He's ...   \n",
            "\n",
            "                         title  video vote_average vote_count  \n",
            "0                    Toy Story  False          7.7     5415.0  \n",
            "1                      Jumanji  False          6.9     2413.0  \n",
            "2             Grumpier Old Men  False          6.5       92.0  \n",
            "3            Waiting to Exhale  False          6.1       34.0  \n",
            "4  Father of the Bride Part II  False          5.7      173.0  \n",
            "\n",
            "[5 rows x 24 columns]\n",
            "\n",
            "Credits Data Head:\n",
            "                                                cast  \\\n",
            "0  [{'cast_id': 14, 'character': 'Woody (voice)',...   \n",
            "1  [{'cast_id': 1, 'character': 'Alan Parrish', '...   \n",
            "2  [{'cast_id': 2, 'character': 'Max Goldman', 'c...   \n",
            "3  [{'cast_id': 1, 'character': \"Savannah 'Vannah...   \n",
            "4  [{'cast_id': 1, 'character': 'George Banks', '...   \n",
            "\n",
            "                                                crew     id  \n",
            "0  [{'credit_id': '52fe4284c3a36847f8024f49', 'de...    862  \n",
            "1  [{'credit_id': '52fe44bfc3a36847f80a7cd1', 'de...   8844  \n",
            "2  [{'credit_id': '52fe466a9251416c75077a89', 'de...  15602  \n",
            "3  [{'credit_id': '52fe44779251416c91011acb', 'de...  31357  \n",
            "4  [{'credit_id': '52fe44959251416c75039ed7', 'de...  11862  \n",
            "\n",
            "Movies Data Info:\n",
            "<class 'pandas.core.frame.DataFrame'>\n",
            "RangeIndex: 450 entries, 0 to 449\n",
            "Data columns (total 24 columns):\n",
            " #   Column                 Non-Null Count  Dtype  \n",
            "---  ------                 --------------  -----  \n",
            " 0   adult                  450 non-null    bool   \n",
            " 1   belongs_to_collection  67 non-null     object \n",
            " 2   budget                 450 non-null    int64  \n",
            " 3   genres                 450 non-null    object \n",
            " 4   homepage               27 non-null     object \n",
            " 5   id                     450 non-null    int64  \n",
            " 6   imdb_id                450 non-null    object \n",
            " 7   original_language      450 non-null    object \n",
            " 8   original_title         450 non-null    object \n",
            " 9   overview               448 non-null    object \n",
            " 10  popularity             450 non-null    float64\n",
            " 11  poster_path            450 non-null    object \n",
            " 12  production_companies   450 non-null    object \n",
            " 13  production_countries   450 non-null    object \n",
            " 14  release_date           450 non-null    object \n",
            " 15  revenue                450 non-null    float64\n",
            " 16  runtime                450 non-null    float64\n",
            " 17  spoken_languages       450 non-null    object \n",
            " 18  status                 449 non-null    object \n",
            " 19  tagline                352 non-null    object \n",
            " 20  title                  450 non-null    object \n",
            " 21  video                  450 non-null    bool   \n",
            " 22  vote_average           450 non-null    float64\n",
            " 23  vote_count             450 non-null    float64\n",
            "dtypes: bool(2), float64(5), int64(2), object(15)\n",
            "memory usage: 78.3+ KB\n",
            "\n",
            "Credits Data Info:\n",
            "<class 'pandas.core.frame.DataFrame'>\n",
            "RangeIndex: 450 entries, 0 to 449\n",
            "Data columns (total 3 columns):\n",
            " #   Column  Non-Null Count  Dtype \n",
            "---  ------  --------------  ----- \n",
            " 0   cast    450 non-null    object\n",
            " 1   crew    450 non-null    object\n",
            " 2   id      450 non-null    int64 \n",
            "dtypes: int64(1), object(2)\n",
            "memory usage: 10.7+ KB\n",
            "\n",
            "Movies Data Cleaned Info:\n",
            "<class 'pandas.core.frame.DataFrame'>\n",
            "RangeIndex: 450 entries, 0 to 449\n",
            "Data columns (total 20 columns):\n",
            " #   Column                 Non-Null Count  Dtype         \n",
            "---  ------                 --------------  -----         \n",
            " 0   belongs_to_collection  450 non-null    object        \n",
            " 1   budget                 450 non-null    int64         \n",
            " 2   genres                 450 non-null    object        \n",
            " 3   id                     450 non-null    int64         \n",
            " 4   original_language      450 non-null    object        \n",
            " 5   overview               448 non-null    object        \n",
            " 6   popularity             450 non-null    float64       \n",
            " 7   production_companies   450 non-null    object        \n",
            " 8   production_countries   450 non-null    object        \n",
            " 9   release_date           450 non-null    datetime64[ns]\n",
            " 10  revenue                450 non-null    float64       \n",
            " 11  runtime                450 non-null    float64       \n",
            " 12  spoken_languages       450 non-null    object        \n",
            " 13  status                 449 non-null    object        \n",
            " 14  tagline                352 non-null    object        \n",
            " 15  title                  450 non-null    object        \n",
            " 16  vote_average           450 non-null    float64       \n",
            " 17  vote_count             450 non-null    float64       \n",
            " 18  return                 450 non-null    float64       \n",
            " 19  release_year           450 non-null    int32         \n",
            "dtypes: datetime64[ns](1), float64(6), int32(1), int64(2), object(10)\n",
            "memory usage: 68.7+ KB\n",
            "None\n",
            "\n",
            "Movies Data Cleaned Head:\n",
            "                               belongs_to_collection    budget  \\\n",
            "0  {'id': 10194, 'name': 'Toy Story Collection', ...  30000000   \n",
            "1                                                 []  65000000   \n",
            "2  {'id': 119050, 'name': 'Grumpy Old Men Collect...         0   \n",
            "3                                                 []  16000000   \n",
            "4  {'id': 96871, 'name': 'Father of the Bride Col...         0   \n",
            "\n",
            "                                              genres     id original_language  \\\n",
            "0  [{'id': 16, 'name': 'Animation'}, {'id': 35, '...    862                en   \n",
            "1  [{'id': 12, 'name': 'Adventure'}, {'id': 14, '...   8844                en   \n",
            "2  [{'id': 10749, 'name': 'Romance'}, {'id': 35, ...  15602                en   \n",
            "3  [{'id': 35, 'name': 'Comedy'}, {'id': 18, 'nam...  31357                en   \n",
            "4                     [{'id': 35, 'name': 'Comedy'}]  11862                en   \n",
            "\n",
            "                                            overview  popularity  \\\n",
            "0  Led by Woody, Andy's toys live happily in his ...   21.946943   \n",
            "1  When siblings Judy and Peter discover an encha...   17.015539   \n",
            "2  A family wedding reignites the ancient feud be...   11.712900   \n",
            "3  Cheated on, mistreated and stepped on, the wom...    3.859495   \n",
            "4  Just when George Banks has recovered from his ...    8.387519   \n",
            "\n",
            "                                production_companies  \\\n",
            "0     [{'name': 'Pixar Animation Studios', 'id': 3}]   \n",
            "1  [{'name': 'TriStar Pictures', 'id': 559}, {'na...   \n",
            "2  [{'name': 'Warner Bros.', 'id': 6194}, {'name'...   \n",
            "3  [{'name': 'Twentieth Century Fox Film Corporat...   \n",
            "4  [{'name': 'Sandollar Productions', 'id': 5842}...   \n",
            "\n",
            "                                production_countries release_date  \\\n",
            "0  [{'iso_3166_1': 'US', 'name': 'United States o...   1995-10-30   \n",
            "1  [{'iso_3166_1': 'US', 'name': 'United States o...   1995-12-15   \n",
            "2  [{'iso_3166_1': 'US', 'name': 'United States o...   1995-12-22   \n",
            "3  [{'iso_3166_1': 'US', 'name': 'United States o...   1995-12-22   \n",
            "4  [{'iso_3166_1': 'US', 'name': 'United States o...   1995-02-10   \n",
            "\n",
            "       revenue  runtime                                   spoken_languages  \\\n",
            "0  373554033.0     81.0           [{'iso_639_1': 'en', 'name': 'English'}]   \n",
            "1  262797249.0    104.0  [{'iso_639_1': 'en', 'name': 'English'}, {'iso...   \n",
            "2          0.0    101.0           [{'iso_639_1': 'en', 'name': 'English'}]   \n",
            "3   81452156.0    127.0           [{'iso_639_1': 'en', 'name': 'English'}]   \n",
            "4   76578911.0    106.0           [{'iso_639_1': 'en', 'name': 'English'}]   \n",
            "\n",
            "     status                                            tagline  \\\n",
            "0  Released                                                NaN   \n",
            "1  Released          Roll the dice and unleash the excitement!   \n",
            "2  Released  Still Yelling. Still Fighting. Still Ready for...   \n",
            "3  Released  Friends are the people who let you be yourself...   \n",
            "4  Released  Just When His World Is Back To Normal... He's ...   \n",
            "\n",
            "                         title  vote_average  vote_count     return  \\\n",
            "0                    Toy Story           7.7      5415.0  12.451801   \n",
            "1                      Jumanji           6.9      2413.0   4.043035   \n",
            "2             Grumpier Old Men           6.5        92.0   0.000000   \n",
            "3            Waiting to Exhale           6.1        34.0   5.090760   \n",
            "4  Father of the Bride Part II           5.7       173.0   0.000000   \n",
            "\n",
            "   release_year  \n",
            "0          1995  \n",
            "1          1995  \n",
            "2          1995  \n",
            "3          1995  \n",
            "4          1995  \n"
          ]
        }
      ]
    },
    {
      "cell_type": "code",
      "source": [
        "!ls"
      ],
      "metadata": {
        "colab": {
          "base_uri": "https://localhost:8080/"
        },
        "id": "MAYiGiAdb0SK",
        "outputId": "8f50a63c-7f36-49c9-f358-eff646ffe15e"
      },
      "execution_count": 28,
      "outputs": [
        {
          "output_type": "stream",
          "name": "stdout",
          "text": [
            "credits_reducido.csv  drive  movies_dataset_reducido.csv  sample_data\n"
          ]
        }
      ]
    },
    {
      "cell_type": "code",
      "source": [
        "!ngrok config add-authtoken 2omes6KPch2ZGwnisTmUHU9kZZP_4BtnMwEA5Ypx1noHBuGDM"
      ],
      "metadata": {
        "colab": {
          "base_uri": "https://localhost:8080/"
        },
        "id": "tsykn23H8QSJ",
        "outputId": "3491b4b6-3ffc-43bc-988b-174ce8bd4f13"
      },
      "execution_count": 6,
      "outputs": [
        {
          "output_type": "stream",
          "name": "stdout",
          "text": [
            "Authtoken saved to configuration file: /root/.config/ngrok/ngrok.yml\n"
          ]
        }
      ]
    },
    {
      "cell_type": "code",
      "source": [
        "movies_data = movies_data.merge(credits_data, on='id')"
      ],
      "metadata": {
        "id": "hsCpGWEUIZC_"
      },
      "execution_count": 29,
      "outputs": []
    },
    {
      "cell_type": "code",
      "source": [
        "movies_data['overview'] = movies_data['overview'].fillna('')"
      ],
      "metadata": {
        "id": "o8dEeKKbIgbn"
      },
      "execution_count": 30,
      "outputs": []
    },
    {
      "cell_type": "code",
      "source": [
        "def obtener_informacion_principal(x, key):\n",
        "    try:\n",
        "        items = ast.literal_eval(x)\n",
        "        return ' '.join([d[key] for d in items if key in d])\n",
        "    except:\n",
        "        return ''"
      ],
      "metadata": {
        "id": "iXSbX_ixIlN3"
      },
      "execution_count": 31,
      "outputs": []
    },
    {
      "cell_type": "code",
      "source": [
        "movies_data['actors'] = movies_data['cast'].apply(lambda x: obtener_informacion_principal(x, 'name'))\n",
        "movies_data['director'] = movies_data['crew'].apply(lambda x: obtener_informacion_principal(x, 'name') if 'Director' in x else '')\n",
        "movies_data['genres'] = movies_data['genres'].apply(lambda x: obtener_informacion_principal(x, 'name'))\n",
        "movies_data['production_companies'] = movies_data['production_companies'].apply(lambda x: obtener_informacion_principal(x, 'name'))"
      ],
      "metadata": {
        "colab": {
          "base_uri": "https://localhost:8080/"
        },
        "id": "rWnsXRyFIn_X",
        "outputId": "e858bbb1-9ede-4a6c-a572-158b3d7b1813"
      },
      "execution_count": 32,
      "outputs": [
        {
          "output_type": "stream",
          "name": "stderr",
          "text": [
            "ERROR:asyncio:Task exception was never retrieved\n",
            "future: <Task finished name='Task-4' coro=<Server.serve() done, defined at /usr/local/lib/python3.10/dist-packages/uvicorn/server.py:67> exception=KeyboardInterrupt()>\n",
            "Traceback (most recent call last):\n",
            "  File \"/usr/local/lib/python3.10/dist-packages/uvicorn/main.py\", line 579, in run\n",
            "    server.run()\n",
            "  File \"/usr/local/lib/python3.10/dist-packages/uvicorn/server.py\", line 65, in run\n",
            "    return asyncio.run(self.serve(sockets=sockets))\n",
            "  File \"/usr/local/lib/python3.10/dist-packages/nest_asyncio.py\", line 30, in run\n",
            "    return loop.run_until_complete(task)\n",
            "  File \"/usr/local/lib/python3.10/dist-packages/nest_asyncio.py\", line 92, in run_until_complete\n",
            "    self._run_once()\n",
            "  File \"/usr/local/lib/python3.10/dist-packages/nest_asyncio.py\", line 133, in _run_once\n",
            "    handle._run()\n",
            "  File \"/usr/lib/python3.10/asyncio/events.py\", line 80, in _run\n",
            "    self._context.run(self._callback, *self._args)\n",
            "  File \"/usr/lib/python3.10/asyncio/tasks.py\", line 315, in __wakeup\n",
            "    self.__step()\n",
            "  File \"/usr/lib/python3.10/asyncio/tasks.py\", line 232, in __step\n",
            "    result = coro.send(None)\n",
            "  File \"/usr/local/lib/python3.10/dist-packages/uvicorn/server.py\", line 68, in serve\n",
            "    with self.capture_signals():\n",
            "  File \"/usr/lib/python3.10/contextlib.py\", line 142, in __exit__\n",
            "    next(self.gen)\n",
            "  File \"/usr/local/lib/python3.10/dist-packages/uvicorn/server.py\", line 332, in capture_signals\n",
            "    signal.raise_signal(captured_signal)\n",
            "KeyboardInterrupt\n"
          ]
        }
      ]
    },
    {
      "cell_type": "code",
      "source": [
        "movies_data['content'] = movies_data['overview'] + ' ' + movies_data['genres'] + ' ' + \\\n",
        "                         movies_data['actors'] + ' ' + movies_data['director'] + ' ' + \\\n",
        "                         movies_data['production_companies']"
      ],
      "metadata": {
        "id": "N3QsTyIWIx4H"
      },
      "execution_count": 33,
      "outputs": []
    },
    {
      "cell_type": "code",
      "source": [
        "tfidf = TfidfVectorizer(stop_words='english')\n",
        "tfidf_matrix = tfidf.fit_transform(movies_data['content'])"
      ],
      "metadata": {
        "id": "IygiDXV9I4zo"
      },
      "execution_count": 34,
      "outputs": []
    },
    {
      "cell_type": "code",
      "source": [
        "cosine_sim = cosine_similarity(tfidf_matrix, tfidf_matrix)"
      ],
      "metadata": {
        "id": "bABoxTP1I6Zm"
      },
      "execution_count": 35,
      "outputs": []
    },
    {
      "cell_type": "code",
      "source": [
        "indices = pd.Series(movies_data.index, index=movies_data['title']).drop_duplicates()"
      ],
      "metadata": {
        "id": "4l3CZtLII_6_"
      },
      "execution_count": 36,
      "outputs": []
    },
    {
      "cell_type": "code",
      "source": [
        "def recomendar_peliculas(title, cosine_sim=cosine_sim, df=movies_data, indices=indices):\n",
        "    idx = indices[title]\n",
        "    sim_scores = list(enumerate(cosine_sim[idx]))\n",
        "    sim_scores = sorted(sim_scores, key=lambda x: x[1], reverse=True)\n",
        "    sim_scores = sim_scores[1:11]\n",
        "    movie_indices = [i[0] for i in sim_scores]\n",
        "    return df['title'].iloc[movie_indices]"
      ],
      "metadata": {
        "id": "XSQxH8gIJFm3"
      },
      "execution_count": 37,
      "outputs": []
    },
    {
      "cell_type": "code",
      "source": [
        "pelicula = \"Toy Story\"\n",
        "print(f\"Películas recomendadas para '{pelicula}':\\n\")\n",
        "print(recomendar_peliculas(pelicula))"
      ],
      "metadata": {
        "colab": {
          "base_uri": "https://localhost:8080/"
        },
        "id": "JxeWgL0LJKuf",
        "outputId": "c2d46785-0393-4a94-d43f-3be2426a8d04"
      },
      "execution_count": 38,
      "outputs": [
        {
          "output_type": "stream",
          "name": "stdout",
          "text": [
            "Películas recomendadas para 'Toy Story':\n",
            "\n",
            "351                Forrest Gump\n",
            "314    The Shawshank Redemption\n",
            "51             Mighty Aphrodite\n",
            "31               Twelve Monkeys\n",
            "309           The Swan Princess\n",
            "147                   Apollo 13\n",
            "73                 Bed of Roses\n",
            "205                  Waterworld\n",
            "435                        Dave\n",
            "430                   Coneheads\n",
            "Name: title, dtype: object\n"
          ]
        }
      ]
    },
    {
      "cell_type": "code",
      "source": [
        "app = FastAPI()"
      ],
      "metadata": {
        "id": "m90MeYVuU8Js"
      },
      "execution_count": 39,
      "outputs": []
    },
    {
      "source": [
        "!pip install pyngrok\n",
        "\n",
        "import nest_asyncio\n",
        "from pyngrok import ngrok\n",
        "\n",
        "nest_asyncio.apply()\n",
        "\n",
        "# Change 'port' to 'addr' in ngrok.connect\n",
        "public_url = ngrok.connect(addr=\"8000\")\n",
        "print(\"URL pública de la API:\", public_url)\n"
      ],
      "cell_type": "code",
      "metadata": {
        "colab": {
          "base_uri": "https://localhost:8080/"
        },
        "id": "idRzGxiU9PY6",
        "outputId": "a8c459db-9501-4a11-8b2d-bf8a26582889"
      },
      "execution_count": 10,
      "outputs": [
        {
          "output_type": "stream",
          "name": "stdout",
          "text": [
            "Requirement already satisfied: pyngrok in /usr/local/lib/python3.10/dist-packages (7.2.1)\n",
            "Requirement already satisfied: PyYAML>=5.1 in /usr/local/lib/python3.10/dist-packages (from pyngrok) (6.0.2)\n",
            "URL pública de la API: NgrokTunnel: \"https://53c1-35-199-175-165.ngrok-free.app\" -> \"http://localhost:8000\"\n"
          ]
        }
      ]
    },
    {
      "cell_type": "code",
      "source": [
        "from fastapi import FastAPI\n",
        "\n",
        "app = FastAPI()\n",
        "\n",
        "@app.get(\"/\")\n",
        "async def root():\n",
        "    return {\"message\": \"Hello, World!\"}"
      ],
      "metadata": {
        "id": "cy9mf9YuFax-"
      },
      "execution_count": 17,
      "outputs": []
    },
    {
      "cell_type": "code",
      "source": [
        "# Cierra todos los túneles activos\n",
        "ngrok.kill()\n",
        "\n",
        "# Reinicia un nuevo túnel en el puerto 8000\n",
        "public_url = ngrok.connect(addr=\"8000\")\n",
        "print(\"URL pública de la API:\", public_url)\n",
        "#Este codigo va a reutilizarse cada vez que se intente deployar el servidor en la ultima celda"
      ],
      "metadata": {
        "colab": {
          "base_uri": "https://localhost:8080/"
        },
        "id": "nIzKE9QIGwB2",
        "outputId": "d551f1e3-d6b7-44e7-cc08-41298c3d381d"
      },
      "execution_count": 41,
      "outputs": [
        {
          "output_type": "stream",
          "name": "stdout",
          "text": [
            "URL pública de la API: NgrokTunnel: \"https://c82a-35-199-175-165.ngrok-free.app\" -> \"http://localhost:8000\"\n"
          ]
        }
      ]
    },
    {
      "cell_type": "code",
      "source": [
        "from fastapi import FastAPI\n",
        "\n",
        "app = FastAPI()\n",
        "\n",
        "# Endpoint de ejemplo para obtener un ítem\n",
        "@app.get(\"/items/{item_id}\")\n",
        "async def read_item(item_id: int):\n",
        "    return {\"item_id\": item_id}\n"
      ],
      "metadata": {
        "id": "SuKyaM9kJAdH"
      },
      "execution_count": 43,
      "outputs": []
    },
    {
      "cell_type": "code",
      "source": [
        "@app.get(\"/recomendar/{title}\")\n",
        "def get_recommendations(title: str):\n",
        "    try:\n",
        "        recomendaciones = recomendar_peliculas(title)\n",
        "        return {\"title\": title, \"recommendations\": recomendaciones}\n",
        "    except ValueError as e:\n",
        "        raise HTTPException(status_code=404, detail=str(e))\n"
      ],
      "metadata": {
        "colab": {
          "base_uri": "https://localhost:8080/"
        },
        "id": "84ngSzm0VEkd",
        "outputId": "a22ec6c6-c788-4d0a-94da-89821475bea5"
      },
      "execution_count": 44,
      "outputs": [
        {
          "output_type": "stream",
          "name": "stderr",
          "text": [
            "ERROR:asyncio:Task exception was never retrieved\n",
            "future: <Task finished name='Task-13' coro=<Server.serve() done, defined at /usr/local/lib/python3.10/dist-packages/uvicorn/server.py:67> exception=KeyboardInterrupt()>\n",
            "Traceback (most recent call last):\n",
            "  File \"/usr/local/lib/python3.10/dist-packages/uvicorn/main.py\", line 579, in run\n",
            "    server.run()\n",
            "  File \"/usr/local/lib/python3.10/dist-packages/uvicorn/server.py\", line 65, in run\n",
            "    return asyncio.run(self.serve(sockets=sockets))\n",
            "  File \"/usr/local/lib/python3.10/dist-packages/nest_asyncio.py\", line 30, in run\n",
            "    return loop.run_until_complete(task)\n",
            "  File \"/usr/local/lib/python3.10/dist-packages/nest_asyncio.py\", line 92, in run_until_complete\n",
            "    self._run_once()\n",
            "  File \"/usr/local/lib/python3.10/dist-packages/nest_asyncio.py\", line 133, in _run_once\n",
            "    handle._run()\n",
            "  File \"/usr/lib/python3.10/asyncio/events.py\", line 80, in _run\n",
            "    self._context.run(self._callback, *self._args)\n",
            "  File \"/usr/lib/python3.10/asyncio/tasks.py\", line 315, in __wakeup\n",
            "    self.__step()\n",
            "  File \"/usr/lib/python3.10/asyncio/tasks.py\", line 232, in __step\n",
            "    result = coro.send(None)\n",
            "  File \"/usr/local/lib/python3.10/dist-packages/uvicorn/server.py\", line 68, in serve\n",
            "    with self.capture_signals():\n",
            "  File \"/usr/lib/python3.10/contextlib.py\", line 142, in __exit__\n",
            "    next(self.gen)\n",
            "  File \"/usr/local/lib/python3.10/dist-packages/uvicorn/server.py\", line 332, in capture_signals\n",
            "    signal.raise_signal(captured_signal)\n",
            "KeyboardInterrupt\n",
            "ERROR:asyncio:Task exception was never retrieved\n",
            "future: <Task finished name='Task-16' coro=<Server.serve() done, defined at /usr/local/lib/python3.10/dist-packages/uvicorn/server.py:67> exception=KeyboardInterrupt()>\n",
            "Traceback (most recent call last):\n",
            "  File \"/usr/local/lib/python3.10/dist-packages/uvicorn/main.py\", line 579, in run\n",
            "    server.run()\n",
            "  File \"/usr/local/lib/python3.10/dist-packages/uvicorn/server.py\", line 65, in run\n",
            "    return asyncio.run(self.serve(sockets=sockets))\n",
            "  File \"/usr/local/lib/python3.10/dist-packages/nest_asyncio.py\", line 30, in run\n",
            "    return loop.run_until_complete(task)\n",
            "  File \"/usr/local/lib/python3.10/dist-packages/nest_asyncio.py\", line 92, in run_until_complete\n",
            "    self._run_once()\n",
            "  File \"/usr/local/lib/python3.10/dist-packages/nest_asyncio.py\", line 133, in _run_once\n",
            "    handle._run()\n",
            "  File \"/usr/lib/python3.10/asyncio/events.py\", line 80, in _run\n",
            "    self._context.run(self._callback, *self._args)\n",
            "  File \"/usr/lib/python3.10/asyncio/tasks.py\", line 315, in __wakeup\n",
            "    self.__step()\n",
            "  File \"/usr/lib/python3.10/asyncio/tasks.py\", line 232, in __step\n",
            "    result = coro.send(None)\n",
            "  File \"/usr/local/lib/python3.10/dist-packages/uvicorn/server.py\", line 68, in serve\n",
            "    with self.capture_signals():\n",
            "  File \"/usr/lib/python3.10/contextlib.py\", line 142, in __exit__\n",
            "    next(self.gen)\n",
            "  File \"/usr/local/lib/python3.10/dist-packages/uvicorn/server.py\", line 332, in capture_signals\n",
            "    signal.raise_signal(captured_signal)\n",
            "KeyboardInterrupt\n"
          ]
        }
      ]
    },
    {
      "source": [
        "import nest_asyncio\n",
        "from pyngrok import ngrok\n",
        "import uvicorn\n",
        "\n",
        "# Permitir que FastAPI corra asincrónicamente en el notebook\n",
        "nest_asyncio.apply()\n",
        "\n",
        "# Change 'port' to 'addr' in ngrok.connect\n",
        "public_url = ngrok.connect(addr=8000)  # Use 'addr' instead of 'port'\n",
        "print(\"https://c82a-35-199-175-165.ngrok-free.app\", public_url)\n",
        "\n",
        "\n",
        "# Ejecutar el servidor de FastAPI\n",
        "uvicorn.run(app, host=\"0.0.0.0\", port=8000)"
      ],
      "cell_type": "code",
      "metadata": {
        "colab": {
          "base_uri": "https://localhost:8080/"
        },
        "id": "m2eOBQ8ZEo3H",
        "outputId": "17a266bb-69ec-41f9-e806-b2e6d42941aa"
      },
      "execution_count": 45,
      "outputs": [
        {
          "output_type": "stream",
          "name": "stdout",
          "text": [
            "https://c82a-35-199-175-165.ngrok-free.app NgrokTunnel: \"https://a87d-35-199-175-165.ngrok-free.app\" -> \"http://localhost:8000\"\n"
          ]
        },
        {
          "output_type": "stream",
          "name": "stderr",
          "text": [
            "INFO:     Started server process [188]\n",
            "INFO:     Waiting for application startup.\n",
            "INFO:     Application startup complete.\n",
            "INFO:     Uvicorn running on http://0.0.0.0:8000 (Press CTRL+C to quit)\n",
            "INFO:     Shutting down\n",
            "INFO:     Waiting for application shutdown.\n",
            "INFO:     Application shutdown complete.\n",
            "INFO:     Finished server process [188]\n"
          ]
        }
      ]
    },
    {
      "cell_type": "markdown",
      "source": [
        "Esta celda se tiene que mantener en ejecución para que funcione el servidor, asi que hay que ejecutarla al ultimo."
      ],
      "metadata": {
        "id": "WNGx9Fx9KKse"
      }
    },
    {
      "cell_type": "markdown",
      "source": [
        "esta celda dara error si se trata de ejecutar dos veces con el mismo tunel ya que expira una vez usado. para seguir provandola uno necesita ejecutar la celda anterior con el siguente codigo y reempalzar el url dentro de print por el que te da el codigo a continuacion:  \n",
        "\"# Cierra todos los túneles activos\n",
        "\n",
        "ngrok.kill()\n",
        "\n",
        "# Reinicia un nuevo túnel en el puerto 8000\n",
        "\n",
        "public_url = ngrok.connect(addr=\"8000\")\n",
        "\n",
        "print(\"URL pública de la API:\", public_url)\""
      ],
      "metadata": {
        "id": "8lxRKUjuMLOE"
      }
    }
  ]
}